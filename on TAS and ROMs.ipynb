{
 "cells": [
  {
   "cell_type": "code",
   "execution_count": 1,
   "id": "06095c96-7bfe-460e-b96f-de0995826306",
   "metadata": {},
   "outputs": [],
   "source": [
    "%run SMB_iterate.py"
   ]
  },
  {
   "cell_type": "markdown",
   "id": "60c1e6d4-d6dc-47b9-96b6-f1a9582780a6",
   "metadata": {},
   "source": [
    "# TAS input"
   ]
  },
  {
   "cell_type": "markdown",
   "id": "74bdb237-57b6-4d58-b0ae-87234c7e7d47",
   "metadata": {},
   "source": [
    "A tool-assisted speedrun (TAS) allows a human operator to select specific inputs on a per-frame basis. This is used to explore games, and to generate theoretical perfect play. There is an interplay between TAS and realtime speedrunning.\n",
    "\n",
    "We can imagine using existing TAS data to inform our action-space sampling and perhaps have a weighting of button presses that might be an improvement over the pre-provided action spaces.\n",
    "\n",
    "* *Caveat: TAS speedruns may include various glitches, as in unintended play patterns. Depending on the context, this may be undesirable for an agent to learn.*\n",
    "\n",
    "We might also imagine using it for behavioral cloning which we expect to learn more about in a future class session."
   ]
  },
  {
   "cell_type": "markdown",
   "id": "9d43b045-8731-46b1-a6f8-a3aac19ba612",
   "metadata": {},
   "source": [
    "Below, we explore a particular [speedrun from user HappyLee](https://tasvideos.org/6622M)."
   ]
  },
  {
   "cell_type": "code",
   "execution_count": 2,
   "id": "abc78af7-dc73-4e6b-8572-36d0ceb38c12",
   "metadata": {},
   "outputs": [
    {
     "name": "stdout",
     "output_type": "stream",
     "text": [
      "version 3\n",
      "emuVersion 22000\n",
      "rerecordCount 11754\n",
      "palFlag 1\n",
      "romFilename Super Mario Bros. (E)\n",
      "romChecksum base64:ujnd5jqyCbG8dR4FNecrGA==\n",
      "guid ACBA9520-9FDF-B909-4E0F-7F121642CAFC\n",
      "fourscore 0\n",
      "microphone 0\n",
      "port0 1\n",
      "port1 1\n",
      "port2 0\n",
      "FDS 0\n",
      "NewPPU 0\n",
      "comment author HappyLee\n",
      "|0|........|........||\n",
      "|0|........|........||\n",
      "|0|........|........||\n",
      "|0|........|........||\n",
      "|0|........|........||\n",
      "\n",
      "... (following random sample of lines) \n",
      "\n",
      "|0|........|........||\n",
      "|0|........|........||\n",
      "|0|......B.|........||\n",
      "|0|.L....B.|........||\n",
      "|0|........|........||\n",
      "|0|R.....B.|........||\n",
      "|0|......B.|........||\n",
      "|0|........|........||\n",
      "|0|......B.|........||\n",
      "|0|........|........||\n"
     ]
    }
   ],
   "source": [
    "randomSeed(5004)\n",
    "tasExample = open('./TAS/happylee-supermariobros-europe-warps.fm2', 'r')\n",
    "for i in range(0, 20):\n",
    "    print(tasExample.readline(), end = '')\n",
    "print(\"\\n... (following random sample of lines) \\n\")\n",
    "remainder = tasExample.readlines()\n",
    "shuffle(remainder)\n",
    "[print(x, end = '') for x in remainder[0:10]]\n",
    "\n",
    "tasExample.close()"
   ]
  },
  {
   "cell_type": "markdown",
   "id": "e3defb11-edcc-45f9-b566-3e267624fc32",
   "metadata": {},
   "source": [
    "The file format for this particular TAS 'movie' is described here: [https://fceux.com/web/help/fm2.html](https://fceux.com/web/help/fm2.html). I believe that this format is defined by the particular emulator in use (fceux). \n",
    "\n",
    "We will effectively be ignoring the opening lines of metadata that are not relevant for our purposes.\n",
    "\n",
    "After the metadata, there is user input.\n",
    "\n",
    "> SI_GAMEPAD:\n",
    "> \n",
    ">     the field consists of eight characters which constitute a bit field\n",
    ">     any character other than ' ' or '.' means that the button was pressed\n",
    ">     by convention, the following mnemonics are used in a column to remind us of which button corresponds to which column: RLDUTSBA (Right, Left, Down, Up, sTart, Select, B, A)\n",
    "\n",
    "The format provides helpful information on the structure:\n",
    "\n",
    "> The input log section can be identified by it starting with a | (pipe).\n",
    "> \n",
    ">     Text format (default format)\n",
    ">     Every frame of the movie is represented by line of text beginning and ending with a | (pipe).\n",
    ">     The fields in the line are as follows, except when fourscore is used.\n",
    ">     |commands|port0|port1|port2|"
   ]
  },
  {
   "cell_type": "markdown",
   "id": "12cb2f99-9bb4-4c63-a80f-b3437fb2de88",
   "metadata": {},
   "source": [
    "We would want to have the inputs and potentially do some EDA/parsing to get the relative weighting of the different actions explored that might serve as an informed prior."
   ]
  },
  {
   "cell_type": "markdown",
   "id": "2a3a55ca-358d-4192-a3a5-585ee19c1d1e",
   "metadata": {},
   "source": [
    "## Parsing"
   ]
  },
  {
   "cell_type": "code",
   "execution_count": 3,
   "id": "644e2b87-730f-45b5-aa5e-f0abdd1a44fc",
   "metadata": {},
   "outputs": [],
   "source": [
    "with open('./TAS/happylee-supermariobros-europe-warps.fm2', 'r') as f:\n",
    "    # skip until the first input information\n",
    "    while True:\n",
    "        line = f.readline()\n",
    "        if line[0] == '|':\n",
    "            break\n",
    "    lines = f.readlines()"
   ]
  },
  {
   "cell_type": "code",
   "execution_count": 4,
   "id": "2e656cc4-7fab-4738-9e91-6275a3f4a5f7",
   "metadata": {},
   "outputs": [
    {
     "data": {
      "text/plain": [
       "[['', '0', '........', '........', '', ''],\n",
       " ['', '0', '........', '........', '', ''],\n",
       " ['', '0', '........', '........', '', ''],\n",
       " ['', '0', '........', '........', '', ''],\n",
       " ['', '0', '........', '........', '', ''],\n",
       " ['', '0', '........', '........', '', ''],\n",
       " ['', '0', '........', '........', '', ''],\n",
       " ['', '0', '........', '........', '', ''],\n",
       " ['', '0', '........', '........', '', ''],\n",
       " ['', '0', '........', '........', '', ''],\n",
       " ['', '0', '........', '........', '', ''],\n",
       " ['', '0', '........', '........', '', ''],\n",
       " ['', '0', '........', '........', '', ''],\n",
       " ['', '0', '........', '........', '', ''],\n",
       " ['', '0', '........', '........', '', ''],\n",
       " ['', '0', '........', '........', '', ''],\n",
       " ['', '0', '........', '........', '', ''],\n",
       " ['', '0', '........', '........', '', ''],\n",
       " ['', '0', '........', '........', '', ''],\n",
       " ['', '0', '........', '........', '', '']]"
      ]
     },
     "execution_count": 4,
     "metadata": {},
     "output_type": "execute_result"
    }
   ],
   "source": [
    "# Python approach\n",
    "# remove newline, split on delimiter\n",
    "[x.rstrip().split('|') for index, x in enumerate(lines)][0:20]"
   ]
  },
  {
   "cell_type": "code",
   "execution_count": 5,
   "id": "f0425f44-e142-4b7a-a441-61659dfcb434",
   "metadata": {},
   "outputs": [
    {
     "data": {
      "text/html": [
       "<div>\n",
       "<style scoped>\n",
       "    .dataframe tbody tr th:only-of-type {\n",
       "        vertical-align: middle;\n",
       "    }\n",
       "\n",
       "    .dataframe tbody tr th {\n",
       "        vertical-align: top;\n",
       "    }\n",
       "\n",
       "    .dataframe thead th {\n",
       "        text-align: right;\n",
       "    }\n",
       "</style>\n",
       "<table border=\"1\" class=\"dataframe\">\n",
       "  <thead>\n",
       "    <tr style=\"text-align: right;\">\n",
       "      <th></th>\n",
       "      <th>drop</th>\n",
       "      <th>command</th>\n",
       "      <th>controller1_inputs</th>\n",
       "      <th>controller2_inputs</th>\n",
       "      <th>controller3_inputs</th>\n",
       "      <th>drop</th>\n",
       "    </tr>\n",
       "  </thead>\n",
       "  <tbody>\n",
       "    <tr>\n",
       "      <th>count</th>\n",
       "      <td>14759</td>\n",
       "      <td>14759</td>\n",
       "      <td>14759</td>\n",
       "      <td>14759</td>\n",
       "      <td>14759</td>\n",
       "      <td>14759</td>\n",
       "    </tr>\n",
       "    <tr>\n",
       "      <th>unique</th>\n",
       "      <td>1</td>\n",
       "      <td>1</td>\n",
       "      <td>18</td>\n",
       "      <td>1</td>\n",
       "      <td>1</td>\n",
       "      <td>1</td>\n",
       "    </tr>\n",
       "    <tr>\n",
       "      <th>top</th>\n",
       "      <td></td>\n",
       "      <td>0</td>\n",
       "      <td>........</td>\n",
       "      <td>........</td>\n",
       "      <td></td>\n",
       "      <td></td>\n",
       "    </tr>\n",
       "    <tr>\n",
       "      <th>freq</th>\n",
       "      <td>14759</td>\n",
       "      <td>14759</td>\n",
       "      <td>5901</td>\n",
       "      <td>14759</td>\n",
       "      <td>14759</td>\n",
       "      <td>14759</td>\n",
       "    </tr>\n",
       "  </tbody>\n",
       "</table>\n",
       "</div>"
      ],
      "text/plain": [
       "         drop command controller1_inputs controller2_inputs  \\\n",
       "count   14759   14759              14759              14759   \n",
       "unique      1       1                 18                  1   \n",
       "top                 0           ........           ........   \n",
       "freq    14759   14759               5901              14759   \n",
       "\n",
       "       controller3_inputs   drop  \n",
       "count               14759  14759  \n",
       "unique                  1      1  \n",
       "top                               \n",
       "freq                14759  14759  "
      ]
     },
     "execution_count": 5,
     "metadata": {},
     "output_type": "execute_result"
    }
   ],
   "source": [
    "# pass more directly into DataFrame\n",
    "df_raw = pd.DataFrame(lines)[0].str.rstrip().str.split('|', expand = True)\n",
    "df_raw = df_raw.rename(\n",
    "   {0 : 'drop',\n",
    "    1 : 'command',\n",
    "    2 : 'controller1_inputs',\n",
    "    3 : 'controller2_inputs',\n",
    "    4 : 'controller3_inputs',\n",
    "    5 : 'drop'},\n",
    "    axis = 1)\n",
    "\n",
    "\n",
    "df = df_raw.loc[:, ['controller1_inputs']]\n",
    "df = df.reset_index()\n",
    "df = df.rename({'controller1_inputs' : 'input',\n",
    "                'index' : 'frameNumber'},\n",
    "               axis = 1)\n",
    "\n",
    "df_raw.describe()"
   ]
  },
  {
   "cell_type": "code",
   "execution_count": 6,
   "id": "eb5584ef-7651-42e5-8daf-9b2d4dc24540",
   "metadata": {},
   "outputs": [
    {
     "data": {
      "text/plain": [
       "controller1_inputs\n",
       "........    5901\n",
       "......B.    4474\n",
       "......BA    2349\n",
       "R.....B.    1147\n",
       ".L....B.     336\n",
       "R.....BA     184\n",
       ".......A     110\n",
       "RL....B.      68\n",
       "R.......      48\n",
       "R......A      39\n",
       "RL.....A      31\n",
       "RL......      25\n",
       ".L....BA      22\n",
       ".L......       8\n",
       ".L.....A       8\n",
       "..D.....       7\n",
       "....T...       1\n",
       "RLDU.SBA       1\n",
       "Name: count, dtype: int64"
      ]
     },
     "execution_count": 6,
     "metadata": {},
     "output_type": "execute_result"
    }
   ],
   "source": [
    "df_raw['controller1_inputs'].value_counts()"
   ]
  },
  {
   "cell_type": "markdown",
   "id": "863331fe-0017-49ce-9695-f0fc4dd20388",
   "metadata": {},
   "source": [
    "### Manual inspection"
   ]
  },
  {
   "cell_type": "markdown",
   "id": "4a7bc11f-3acf-4aae-9ef0-b7a2d0d92690",
   "metadata": {},
   "source": [
    "End of file, 'celebratory' pressing of all buttons except start?"
   ]
  },
  {
   "cell_type": "code",
   "execution_count": 7,
   "id": "e305bf93-da1a-4dc6-904a-c997f6a593c9",
   "metadata": {},
   "outputs": [
    {
     "name": "stdout",
     "output_type": "stream",
     "text": [
      "(14759, 2)\n",
      "0 14758\n"
     ]
    },
    {
     "data": {
      "text/html": [
       "<div>\n",
       "<style scoped>\n",
       "    .dataframe tbody tr th:only-of-type {\n",
       "        vertical-align: middle;\n",
       "    }\n",
       "\n",
       "    .dataframe tbody tr th {\n",
       "        vertical-align: top;\n",
       "    }\n",
       "\n",
       "    .dataframe thead th {\n",
       "        text-align: right;\n",
       "    }\n",
       "</style>\n",
       "<table border=\"1\" class=\"dataframe\">\n",
       "  <thead>\n",
       "    <tr style=\"text-align: right;\">\n",
       "      <th></th>\n",
       "      <th>frameNumber</th>\n",
       "      <th>input</th>\n",
       "    </tr>\n",
       "  </thead>\n",
       "  <tbody>\n",
       "    <tr>\n",
       "      <th>14758</th>\n",
       "      <td>14758</td>\n",
       "      <td>RLDU.SBA</td>\n",
       "    </tr>\n",
       "  </tbody>\n",
       "</table>\n",
       "</div>"
      ],
      "text/plain": [
       "       frameNumber     input\n",
       "14758        14758  RLDU.SBA"
      ]
     },
     "execution_count": 7,
     "metadata": {},
     "output_type": "execute_result"
    }
   ],
   "source": [
    "print(df.shape)\n",
    "print(df.frameNumber.min(), df.frameNumber.max())\n",
    "df.query('input == \"RLDU.SBA\"')"
   ]
  },
  {
   "cell_type": "markdown",
   "id": "d50738dc-846e-460f-aebf-5d408408f446",
   "metadata": {},
   "source": [
    "Start of the run, pressing the start button to exit the title screen."
   ]
  },
  {
   "cell_type": "code",
   "execution_count": 8,
   "id": "b20b95fe-8002-42c8-9478-85ee4c1c96e9",
   "metadata": {},
   "outputs": [
    {
     "data": {
      "text/html": [
       "<div>\n",
       "<style scoped>\n",
       "    .dataframe tbody tr th:only-of-type {\n",
       "        vertical-align: middle;\n",
       "    }\n",
       "\n",
       "    .dataframe tbody tr th {\n",
       "        vertical-align: top;\n",
       "    }\n",
       "\n",
       "    .dataframe thead th {\n",
       "        text-align: right;\n",
       "    }\n",
       "</style>\n",
       "<table border=\"1\" class=\"dataframe\">\n",
       "  <thead>\n",
       "    <tr style=\"text-align: right;\">\n",
       "      <th></th>\n",
       "      <th>frameNumber</th>\n",
       "      <th>input</th>\n",
       "    </tr>\n",
       "  </thead>\n",
       "  <tbody>\n",
       "    <tr>\n",
       "      <th>34</th>\n",
       "      <td>34</td>\n",
       "      <td>....T...</td>\n",
       "    </tr>\n",
       "  </tbody>\n",
       "</table>\n",
       "</div>"
      ],
      "text/plain": [
       "    frameNumber     input\n",
       "34           34  ....T..."
      ]
     },
     "execution_count": 8,
     "metadata": {},
     "output_type": "execute_result"
    }
   ],
   "source": [
    "df.query('input == \"....T...\"')"
   ]
  },
  {
   "cell_type": "markdown",
   "id": "be6a51c2-79e0-4b55-9435-d4960c2a76e5",
   "metadata": {},
   "source": [
    "At least some, if not all of these are inputs to enter pipes."
   ]
  },
  {
   "cell_type": "code",
   "execution_count": 9,
   "id": "dc830cee-d3f2-4298-87f7-4a89ec372137",
   "metadata": {},
   "outputs": [
    {
     "data": {
      "text/html": [
       "<div>\n",
       "<style scoped>\n",
       "    .dataframe tbody tr th:only-of-type {\n",
       "        vertical-align: middle;\n",
       "    }\n",
       "\n",
       "    .dataframe tbody tr th {\n",
       "        vertical-align: top;\n",
       "    }\n",
       "\n",
       "    .dataframe thead th {\n",
       "        text-align: right;\n",
       "    }\n",
       "</style>\n",
       "<table border=\"1\" class=\"dataframe\">\n",
       "  <thead>\n",
       "    <tr style=\"text-align: right;\">\n",
       "      <th></th>\n",
       "      <th>frameNumber</th>\n",
       "      <th>input</th>\n",
       "    </tr>\n",
       "  </thead>\n",
       "  <tbody>\n",
       "    <tr>\n",
       "      <th>475</th>\n",
       "      <td>475</td>\n",
       "      <td>..D.....</td>\n",
       "    </tr>\n",
       "    <tr>\n",
       "      <th>3104</th>\n",
       "      <td>3104</td>\n",
       "      <td>..D.....</td>\n",
       "    </tr>\n",
       "    <tr>\n",
       "      <th>5903</th>\n",
       "      <td>5903</td>\n",
       "      <td>..D.....</td>\n",
       "    </tr>\n",
       "    <tr>\n",
       "      <th>6361</th>\n",
       "      <td>6361</td>\n",
       "      <td>..D.....</td>\n",
       "    </tr>\n",
       "    <tr>\n",
       "      <th>12911</th>\n",
       "      <td>12911</td>\n",
       "      <td>..D.....</td>\n",
       "    </tr>\n",
       "    <tr>\n",
       "      <th>13291</th>\n",
       "      <td>13291</td>\n",
       "      <td>..D.....</td>\n",
       "    </tr>\n",
       "    <tr>\n",
       "      <th>13608</th>\n",
       "      <td>13608</td>\n",
       "      <td>..D.....</td>\n",
       "    </tr>\n",
       "  </tbody>\n",
       "</table>\n",
       "</div>"
      ],
      "text/plain": [
       "       frameNumber     input\n",
       "475            475  ..D.....\n",
       "3104          3104  ..D.....\n",
       "5903          5903  ..D.....\n",
       "6361          6361  ..D.....\n",
       "12911        12911  ..D.....\n",
       "13291        13291  ..D.....\n",
       "13608        13608  ..D....."
      ]
     },
     "execution_count": 9,
     "metadata": {},
     "output_type": "execute_result"
    }
   ],
   "source": [
    "df.query('input == \"..D.....\"')"
   ]
  },
  {
   "cell_type": "markdown",
   "id": "bfd50594-932f-48d6-b9eb-935a45f1b599",
   "metadata": {},
   "source": [
    "Comments:\n",
    "\n",
    "* No action (`NOOP`) is the most prominent action. A naive approach would suggest that this reflects a very passive set of inputs. However, I believe that this just reflects loading times between stages.\n",
    "  * The gymnasium environment is set to automatically remove these components from play to allow for better focusing on play.\n",
    "* We do see several inputs that include right and left inputs simultaneously. This is not something that can be done with human input on [original NES hardware](https://www.suppermariobroth.com/post/732175362993340416/in-super-mario-bros-by-pressing-left-and-right), as the directions are opposed and constrained on the D-pad. Some theories:\n",
    "  * This may reflect some advanced machine-only technique.\n",
    "  * It may reflect the authors choosing to input the input when it would not otherwise make a difference.\n",
    "  * It may reflect errors, though this seems exceptionally unlikely.\n",
    "    * Indeed, this technique allows for faster acceleration/deceleration as [per comments](https://tasvideos.org/Forum/Topics/21202?CurrentPage=1&Highlight=486141#486141) on a 'No L+R' speedrun submission. \n",
    "* The pressing of almost all inputs (RLDU.SBA) occurs on the final frame\n",
    "* The 'start' button is only pressed once after loading the game."
   ]
  },
  {
   "cell_type": "markdown",
   "id": "5b85e06d-11aa-48c1-b3b0-3f5dbd8ce1f0",
   "metadata": {},
   "source": [
    "### Convert TAS inputs to gym actions"
   ]
  },
  {
   "cell_type": "markdown",
   "id": "ae45e406-11a6-4942-8c9d-bdec6292f2c6",
   "metadata": {},
   "source": [
    "To be able to leverage these TAS inputs, we will need to convert from the dense format to the more verbose format for gymnasium."
   ]
  },
  {
   "cell_type": "code",
   "execution_count": 10,
   "id": "410888f6-2d22-4a85-8750-201390eb3765",
   "metadata": {},
   "outputs": [
    {
     "data": {
      "text/plain": [
       "['........',\n",
       " '....T...',\n",
       " 'RL....B.',\n",
       " 'R.....B.',\n",
       " '.L....B.',\n",
       " 'R.....BA',\n",
       " '......BA',\n",
       " '......B.',\n",
       " '.L......',\n",
       " 'R......A',\n",
       " '.......A',\n",
       " 'RL......',\n",
       " '..D.....',\n",
       " '.L.....A',\n",
       " 'R.......',\n",
       " '.L....BA',\n",
       " 'RL.....A',\n",
       " 'RLDU.SBA']"
      ]
     },
     "execution_count": 10,
     "metadata": {},
     "output_type": "execute_result"
    }
   ],
   "source": [
    "# inputs that are actually used in the TAS run\n",
    "[x for x in df.input.unique()]"
   ]
  },
  {
   "cell_type": "markdown",
   "id": "666bfe6f-c86a-46d9-b544-0c1af3e70b2f",
   "metadata": {},
   "source": [
    "Rewrite as a list of lists."
   ]
  },
  {
   "cell_type": "markdown",
   "id": "ba0ad679-ffd4-4098-8205-cfd69fbdfa18",
   "metadata": {},
   "source": [
    "Generate a new column in our df that has these gym inputs as strings."
   ]
  },
  {
   "cell_type": "code",
   "execution_count": 11,
   "id": "c784c5b7-5ddd-4993-a32b-dac9a537deab",
   "metadata": {},
   "outputs": [],
   "source": [
    "# cannot convert to a list with replace in a column, \n",
    "# so instead convert to a delimited string\n",
    "# converted subequently to list\n",
    "df['gymInput'] = df['input'].replace({\n",
    "    '........' : 'NOOP',\n",
    "    '....T...' : 'start',\n",
    "    'RL....B.' : 'right,left,B', # invalid input for humans\n",
    "    'R.....B.' : 'right,B',\n",
    "    '.L....B.' : 'left,B',\n",
    "    'R.....BA' : 'right,B,A',\n",
    "    '......BA' : 'B,A',\n",
    "    '......B.' : 'B',\n",
    "    '.L......' : 'left',\n",
    "    'R......A' : 'right,A',\n",
    "    '.......A' : 'A',\n",
    "    'RL......' : 'right,left', # invalid input for humans\n",
    "    '..D.....' : 'down',\n",
    "    '.L.....A' : 'left,A',\n",
    "    'R.......' : 'right',\n",
    "    '.L....BA' : 'left,B,A',\n",
    "    'RL.....A' : 'right,left,A', # invalid input for humans\n",
    "    'RLDU.SBA' : 'right,left,down,up,start,B,A'\n",
    "})"
   ]
  },
  {
   "cell_type": "code",
   "execution_count": 12,
   "id": "13b3f156-ef55-4f8c-802e-2914e1c45600",
   "metadata": {},
   "outputs": [
    {
     "data": {
      "text/plain": [
       "6059           B,A\n",
       "11922            B\n",
       "10394         NOOP\n",
       "7933           B,A\n",
       "9053     right,B,A\n",
       "Name: gymInput, dtype: object"
      ]
     },
     "execution_count": 12,
     "metadata": {},
     "output_type": "execute_result"
    }
   ],
   "source": [
    "df['gymInput'].sample(5)"
   ]
  },
  {
   "cell_type": "code",
   "execution_count": 13,
   "id": "99e0fc23-13cb-463e-aac2-ed7a2e2ab5af",
   "metadata": {},
   "outputs": [],
   "source": [
    "## treats each character as a separate item in the list\n",
    "#df['gymInput'] = df['gymInput'].apply(lambda x : list(x))\n",
    "\n",
    "# works effectively, but is unintuitive\n",
    "df['gymInput'] = df['gymInput'].apply(lambda x : x.split(','))"
   ]
  },
  {
   "cell_type": "code",
   "execution_count": 14,
   "id": "f76fa944-803a-492c-82ef-b5ff224a8046",
   "metadata": {},
   "outputs": [
    {
     "data": {
      "text/plain": [
       "263            [right, B]\n",
       "2368               [B, A]\n",
       "7108                  [B]\n",
       "5146               [NOOP]\n",
       "3924               [B, A]\n",
       "3382               [B, A]\n",
       "1556               [NOOP]\n",
       "4622               [NOOP]\n",
       "10750              [NOOP]\n",
       "449                [left]\n",
       "2314                  [B]\n",
       "6114                  [B]\n",
       "1271               [NOOP]\n",
       "8172           [right, B]\n",
       "594      [right, left, B]\n",
       "5145               [NOOP]\n",
       "13377              [NOOP]\n",
       "14232              [NOOP]\n",
       "11093                 [B]\n",
       "10891                 [B]\n",
       "Name: gymInput, dtype: object"
      ]
     },
     "execution_count": 14,
     "metadata": {},
     "output_type": "execute_result"
    }
   ],
   "source": [
    "df.gymInput.sample(20)"
   ]
  },
  {
   "cell_type": "markdown",
   "id": "4541b658-7f8e-48a0-b6c3-8ef33a838bfe",
   "metadata": {},
   "source": [
    "#### Apply TAS inputs to gymnasium environment"
   ]
  },
  {
   "cell_type": "markdown",
   "id": "07652802-15e6-4f94-ae3d-182356b1daea",
   "metadata": {},
   "source": [
    "Once again, the TAS includes the time for stage loading and transitions, which the gymnasium environment does not do.\n",
    "\n",
    "So, we will be looking at a subset of the TAS inputs to use as a validation sequence for passing into the gymnasium environment."
   ]
  },
  {
   "cell_type": "code",
   "execution_count": 15,
   "id": "4483c08f-5c1a-401c-8016-5314176e3d34",
   "metadata": {},
   "outputs": [
    {
     "data": {
      "text/html": [
       "<div>\n",
       "<style scoped>\n",
       "    .dataframe tbody tr th:only-of-type {\n",
       "        vertical-align: middle;\n",
       "    }\n",
       "\n",
       "    .dataframe tbody tr th {\n",
       "        vertical-align: top;\n",
       "    }\n",
       "\n",
       "    .dataframe thead th {\n",
       "        text-align: right;\n",
       "    }\n",
       "</style>\n",
       "<table border=\"1\" class=\"dataframe\">\n",
       "  <thead>\n",
       "    <tr style=\"text-align: right;\">\n",
       "      <th></th>\n",
       "      <th>frameNumber</th>\n",
       "      <th>input</th>\n",
       "      <th>gymInput</th>\n",
       "    </tr>\n",
       "  </thead>\n",
       "  <tbody>\n",
       "    <tr>\n",
       "      <th>166</th>\n",
       "      <td>166</td>\n",
       "      <td>........</td>\n",
       "      <td>[NOOP]</td>\n",
       "    </tr>\n",
       "    <tr>\n",
       "      <th>167</th>\n",
       "      <td>167</td>\n",
       "      <td>........</td>\n",
       "      <td>[NOOP]</td>\n",
       "    </tr>\n",
       "    <tr>\n",
       "      <th>168</th>\n",
       "      <td>168</td>\n",
       "      <td>........</td>\n",
       "      <td>[NOOP]</td>\n",
       "    </tr>\n",
       "    <tr>\n",
       "      <th>169</th>\n",
       "      <td>169</td>\n",
       "      <td>........</td>\n",
       "      <td>[NOOP]</td>\n",
       "    </tr>\n",
       "    <tr>\n",
       "      <th>170</th>\n",
       "      <td>170</td>\n",
       "      <td>........</td>\n",
       "      <td>[NOOP]</td>\n",
       "    </tr>\n",
       "    <tr>\n",
       "      <th>171</th>\n",
       "      <td>171</td>\n",
       "      <td>RL....B.</td>\n",
       "      <td>[right, left, B]</td>\n",
       "    </tr>\n",
       "    <tr>\n",
       "      <th>172</th>\n",
       "      <td>172</td>\n",
       "      <td>R.....B.</td>\n",
       "      <td>[right, B]</td>\n",
       "    </tr>\n",
       "    <tr>\n",
       "      <th>173</th>\n",
       "      <td>173</td>\n",
       "      <td>R.....B.</td>\n",
       "      <td>[right, B]</td>\n",
       "    </tr>\n",
       "    <tr>\n",
       "      <th>174</th>\n",
       "      <td>174</td>\n",
       "      <td>R.....B.</td>\n",
       "      <td>[right, B]</td>\n",
       "    </tr>\n",
       "    <tr>\n",
       "      <th>175</th>\n",
       "      <td>175</td>\n",
       "      <td>R.....B.</td>\n",
       "      <td>[right, B]</td>\n",
       "    </tr>\n",
       "  </tbody>\n",
       "</table>\n",
       "</div>"
      ],
      "text/plain": [
       "     frameNumber     input          gymInput\n",
       "166          166  ........            [NOOP]\n",
       "167          167  ........            [NOOP]\n",
       "168          168  ........            [NOOP]\n",
       "169          169  ........            [NOOP]\n",
       "170          170  ........            [NOOP]\n",
       "171          171  RL....B.  [right, left, B]\n",
       "172          172  R.....B.        [right, B]\n",
       "173          173  R.....B.        [right, B]\n",
       "174          174  R.....B.        [right, B]\n",
       "175          175  R.....B.        [right, B]"
      ]
     },
     "execution_count": 15,
     "metadata": {},
     "output_type": "execute_result"
    }
   ],
   "source": [
    "# start of inputs after loading\n",
    "start = 171\n",
    "df.iloc[start - 5 : start + 5]"
   ]
  },
  {
   "cell_type": "markdown",
   "id": "dceb7583-d205-438e-94cc-4eaf55c66671",
   "metadata": {},
   "source": [
    "There is a brief pause in action, unclear what this directly corresponds to, but we can use it as a natural enough stopping point for this proof of concept."
   ]
  },
  {
   "cell_type": "code",
   "execution_count": 16,
   "id": "693af039-fc5c-493f-8f60-bf262bab3c88",
   "metadata": {},
   "outputs": [
    {
     "data": {
      "text/html": [
       "<div>\n",
       "<style scoped>\n",
       "    .dataframe tbody tr th:only-of-type {\n",
       "        vertical-align: middle;\n",
       "    }\n",
       "\n",
       "    .dataframe tbody tr th {\n",
       "        vertical-align: top;\n",
       "    }\n",
       "\n",
       "    .dataframe thead th {\n",
       "        text-align: right;\n",
       "    }\n",
       "</style>\n",
       "<table border=\"1\" class=\"dataframe\">\n",
       "  <thead>\n",
       "    <tr style=\"text-align: right;\">\n",
       "      <th></th>\n",
       "      <th>frameNumber</th>\n",
       "      <th>input</th>\n",
       "      <th>gymInput</th>\n",
       "    </tr>\n",
       "  </thead>\n",
       "  <tbody>\n",
       "    <tr>\n",
       "      <th>410</th>\n",
       "      <td>410</td>\n",
       "      <td>......BA</td>\n",
       "      <td>[B, A]</td>\n",
       "    </tr>\n",
       "    <tr>\n",
       "      <th>411</th>\n",
       "      <td>411</td>\n",
       "      <td>......BA</td>\n",
       "      <td>[B, A]</td>\n",
       "    </tr>\n",
       "    <tr>\n",
       "      <th>412</th>\n",
       "      <td>412</td>\n",
       "      <td>......BA</td>\n",
       "      <td>[B, A]</td>\n",
       "    </tr>\n",
       "    <tr>\n",
       "      <th>413</th>\n",
       "      <td>413</td>\n",
       "      <td>......BA</td>\n",
       "      <td>[B, A]</td>\n",
       "    </tr>\n",
       "    <tr>\n",
       "      <th>414</th>\n",
       "      <td>414</td>\n",
       "      <td>......BA</td>\n",
       "      <td>[B, A]</td>\n",
       "    </tr>\n",
       "    <tr>\n",
       "      <th>415</th>\n",
       "      <td>415</td>\n",
       "      <td>......BA</td>\n",
       "      <td>[B, A]</td>\n",
       "    </tr>\n",
       "    <tr>\n",
       "      <th>416</th>\n",
       "      <td>416</td>\n",
       "      <td>........</td>\n",
       "      <td>[NOOP]</td>\n",
       "    </tr>\n",
       "    <tr>\n",
       "      <th>417</th>\n",
       "      <td>417</td>\n",
       "      <td>........</td>\n",
       "      <td>[NOOP]</td>\n",
       "    </tr>\n",
       "    <tr>\n",
       "      <th>418</th>\n",
       "      <td>418</td>\n",
       "      <td>........</td>\n",
       "      <td>[NOOP]</td>\n",
       "    </tr>\n",
       "    <tr>\n",
       "      <th>419</th>\n",
       "      <td>419</td>\n",
       "      <td>........</td>\n",
       "      <td>[NOOP]</td>\n",
       "    </tr>\n",
       "  </tbody>\n",
       "</table>\n",
       "</div>"
      ],
      "text/plain": [
       "     frameNumber     input gymInput\n",
       "410          410  ......BA   [B, A]\n",
       "411          411  ......BA   [B, A]\n",
       "412          412  ......BA   [B, A]\n",
       "413          413  ......BA   [B, A]\n",
       "414          414  ......BA   [B, A]\n",
       "415          415  ......BA   [B, A]\n",
       "416          416  ........   [NOOP]\n",
       "417          417  ........   [NOOP]\n",
       "418          418  ........   [NOOP]\n",
       "419          419  ........   [NOOP]"
      ]
     },
     "execution_count": 16,
     "metadata": {},
     "output_type": "execute_result"
    }
   ],
   "source": [
    "end = 415\n",
    "df.iloc[end - 5 : end + 5]"
   ]
  },
  {
   "cell_type": "code",
   "execution_count": 17,
   "id": "a0ba1735-d042-4568-a697-76cffd071cd8",
   "metadata": {},
   "outputs": [],
   "source": [
    "startingInput = 171 # start of level\n",
    "endingInput = 415   # entering pipe\n",
    "\n",
    "sequenceTAS = df['gymInput'].iloc[startingInput : endingInput].tolist()"
   ]
  },
  {
   "cell_type": "code",
   "execution_count": 18,
   "id": "f54dd84b-df81-4caa-8c75-8bb6bdf3c322",
   "metadata": {},
   "outputs": [],
   "source": [
    "actionSpaceTAS = [\n",
    "    ['NOOP'],\n",
    "    ['start'],\n",
    "    ['right','left','B'],\n",
    "    ['right','B'],\n",
    "    ['left','B'],\n",
    "    ['right','B','A'],\n",
    "    ['B','A'],\n",
    "    ['B'],\n",
    "    ['left'],\n",
    "    ['right','A'],\n",
    "    ['A'],\n",
    "    ['right','left'],\n",
    "    ['down'],\n",
    "    ['left','A'],\n",
    "    ['right'],\n",
    "    ['left','B','A'],\n",
    "    ['right','left','A'],\n",
    "    ['right','left','down','up','start','B','A']\n",
    "]"
   ]
  },
  {
   "cell_type": "code",
   "execution_count": 19,
   "id": "99366080-374a-4b84-9f96-ea022ade4e2b",
   "metadata": {
    "scrolled": true
   },
   "outputs": [
    {
     "name": "stderr",
     "output_type": "stream",
     "text": [
      "/home/dss2q/.local/lib/python3.12/site-packages/gymnasium/envs/registration.py:512: DeprecationWarning: \u001b[33mWARN: The environment SuperMarioBros-v0 is out of date. You should consider upgrading to version `v3`.\u001b[0m\n",
      "  logger.deprecation(\n"
     ]
    },
    {
     "name": "stdout",
     "output_type": "stream",
     "text": [
      "self.actionSpace=[['NOOP'], ['start'], ['right', 'left', 'B'], ['right', 'B'], ['left', 'B'], ['right', 'B', 'A'], ['B', 'A'], ['B'], ['left'], ['right', 'A'], ['A'], ['right', 'left'], ['down'], ['left', 'A'], ['right'], ['left', 'B', 'A'], ['right', 'left', 'A'], ['right', 'left', 'down', 'up', 'start', 'B', 'A']]\n",
      "self.seed=5004\n",
      "self.step=-1\n",
      "self.cumulativeReward=0\n",
      "Latest state:\n",
      "None\n",
      "self.step=0000000, self.cumulativeReward=0.0, info['coins']=0, info['time']=400\n",
      "start of new life\n",
      "current lives:  1\n"
     ]
    }
   ],
   "source": [
    "a = Agent(actionSpaceTAS, rom = 'v0')\n",
    "print(a)\n",
    "a.iterate(sequenceTAS, saveImage = True)"
   ]
  },
  {
   "cell_type": "markdown",
   "id": "c858a5e4-72fd-4bec-bae0-546c5f818452",
   "metadata": {},
   "source": [
    "What I discovered from this, in running it on the version 0 and version 3 variants of the environment, is that the same inputs will result in different outcomes. Empirically, it appears that there are *not just* graphical differences between these different versions/ROMs."
   ]
  },
  {
   "cell_type": "code",
   "execution_count": 20,
   "id": "8a31062f-5434-4c20-a5d4-9f9d15f1290a",
   "metadata": {
    "scrolled": true
   },
   "outputs": [
    {
     "name": "stdout",
     "output_type": "stream",
     "text": [
      "self.actionSpace=[['NOOP'], ['start'], ['right', 'left', 'B'], ['right', 'B'], ['left', 'B'], ['right', 'B', 'A'], ['B', 'A'], ['B'], ['left'], ['right', 'A'], ['A'], ['right', 'left'], ['down'], ['left', 'A'], ['right'], ['left', 'B', 'A'], ['right', 'left', 'A'], ['right', 'left', 'down', 'up', 'start', 'B', 'A']]\n",
      "self.seed=5004\n",
      "self.step=-1\n",
      "self.cumulativeReward=0\n",
      "Latest state:\n",
      "None\n",
      "self.step=0000000, self.cumulativeReward=0.0, info['coins']=0, info['time']=400\n"
     ]
    }
   ],
   "source": [
    "a = Agent(actionSpaceTAS, rom = 'v3')\n",
    "print(a)\n",
    "a.iterate(sequenceTAS, saveImage = True)"
   ]
  },
  {
   "cell_type": "markdown",
   "id": "2f1988b6-844f-4546-9da5-961e9a982120",
   "metadata": {},
   "source": [
    "Sequential frames are saved as images into a folder called states. These could be converted into a movie using say `ffmpeg`, but can also be converted using say kdenlive.\n",
    "\n",
    "kdenlive instructions:\n",
    "\n",
    "* Project > Add Image Sequence\n",
    "* Select the folder containing the sequence of sequentially named images\n",
    "* Set frame duration from default of 5 seconds (`00:00:05:00`) to 1 frame (`00:00:00:01`)\n",
    "* Optionally extend the last frame for review as described in this [Reddit post](https://www.reddit.com/r/kdenlive/comments/pkdoc7/how_do_you_freeze_a_frame/)"
   ]
  },
  {
   "cell_type": "markdown",
   "id": "823adf5b-49a9-4efe-b1ce-b6bc6b82fee5",
   "metadata": {},
   "source": [
    "Embedded video comparison of 'v0' (faithful graphics) and 'v3' (rectangular).\n",
    "\n",
    "With gratitude to this [StackOverflow post](https://stackoverflow.com/questions/18019477/how-can-i-play-a-local-video-in-my-ipython-notebook)."
   ]
  },
  {
   "cell_type": "code",
   "execution_count": 21,
   "id": "0abaa39f-36d0-4d6f-8c05-40c80686ccef",
   "metadata": {},
   "outputs": [
    {
     "data": {
      "text/plain": [
       "(240, 256, 3)"
      ]
     },
     "execution_count": 21,
     "metadata": {},
     "output_type": "execute_result"
    }
   ],
   "source": [
    "a.state.shape"
   ]
  },
  {
   "cell_type": "code",
   "execution_count": 22,
   "id": "f8a6512b-43e4-4a82-953e-1a2c247e9a60",
   "metadata": {},
   "outputs": [
    {
     "data": {
      "text/html": [
       "<video src=\"embedded_media/v0_vs_v3_TAS_inputs.mp4\" controls  width=\"720\"  height=\"768\">\n",
       "      Your browser does not support the <code>video</code> element.\n",
       "    </video>"
      ],
      "text/plain": [
       "<IPython.core.display.Video object>"
      ]
     },
     "execution_count": 22,
     "metadata": {},
     "output_type": "execute_result"
    }
   ],
   "source": [
    "from IPython.display import Video\n",
    "\n",
    "Video(\"embedded_media/v0_vs_v3_TAS_inputs.mp4\", width = 240 * 3, height = 256 * 3)"
   ]
  },
  {
   "cell_type": "markdown",
   "id": "7f3c67f4-8c64-4275-92a2-1f694960c3ac",
   "metadata": {},
   "source": [
    "# ROMs"
   ]
  },
  {
   "cell_type": "markdown",
   "id": "02607051-268d-49cb-9b2c-6c0a218498d3",
   "metadata": {},
   "source": [
    "The above realization necessitated learning about different ROMs (read-only-memory) aka versions of the game as part of understanding the environment in which we are working. Each version is nominally Super Mario Bros, but with slight variations. Given the potential for confusion, the community appears to rely on file hashes to authoritatively identify different versions.\n",
    "\n",
    "Some versions are official, but released for different markets. For instance four ROMs listed by the [crowdcontrol](https://crowdcontrol.live/guides/SuperMarioBros/) tool.\n",
    "\n",
    "* `811b027eaf99c2def7b933c5208636de` - Super Mario Bros (JU) Rev 0\n",
    "* `94ede9347c1416105f1c08ec26b5b73a` - Super Mario Bros (JU) Rev 1\n",
    "* `673913a23cd612daf5ad32d4085e0760` - Super Mario Bros (E)\n",
    "* `f94bb9bb55f325d9af8a0fff80b9376d` - Super Mario Bros (World)\n",
    "\n",
    "The portion in parenthesis refers to the country codes which can be combined [gamicus wiki](https://gamicus.fandom.com/wiki/ROM_suffixes).\n",
    "\n",
    "* J -> Japan\n",
    "* U -> USA\n",
    "* E -> Europe"
   ]
  },
  {
   "cell_type": "markdown",
   "id": "49fdb92c-c514-4f6a-9447-34f54efd085f",
   "metadata": {},
   "source": [
    "So, what ROMs are used by default within the `gymnasium-super-mario-bros` package?"
   ]
  },
  {
   "cell_type": "code",
   "execution_count": 23,
   "id": "45531f73-72e3-4924-9518-98bdee62ef96",
   "metadata": {},
   "outputs": [],
   "source": [
    "# code in this cell was generated by generative AI, Microsoft CoPilot\n",
    "import hashlib\n",
    "\n",
    "def calculate_rom_checksum(file_path):\n",
    "    # Read the file in binary mode and compute MD5 hash\n",
    "    with open(file_path, 'rb') as f:\n",
    "        file_data = f.read()\n",
    "        md5_hash = hashlib.md5(file_data).hexdigest()  # Hexified MD5\n",
    "    return(md5_hash)"
   ]
  },
  {
   "cell_type": "code",
   "execution_count": 24,
   "id": "1df441de-2508-43f7-a678-fea9c78c37de",
   "metadata": {},
   "outputs": [
    {
     "name": "stdout",
     "output_type": "stream",
     "text": [
      "super-mario-bros-2-downsample.nes 3e359edd0097b7833214894f0941d942\n",
      "super-mario-bros-pixel.nes 9e2e8cf204c40ad2030cd4cf50e28d45\n",
      "super-mario-bros-rectangle.nes d88207b7a3fb143f3f94480e89c83dd7\n",
      "super-mario-bros-downsample.nes 9e1a6e778a231091060ba5e9029b9a2f\n",
      "super-mario-bros.nes 673913a23cd612daf5ad32d4085e0760\n",
      "super-mario-bros-2.nes 007ffbdce3ca5b5ea5056438d7136051\n"
     ]
    }
   ],
   "source": [
    "import os\n",
    "\n",
    "rom_dir = \"/home/dss2q/DS5004/smb/gymnasium-super-mario-bros/gym_super_mario_bros/_roms/\"\n",
    "\n",
    "for file in os.listdir(rom_dir):\n",
    "    if file[-4:] == '.nes':\n",
    "        print(file, calculate_rom_checksum(rom_dir + file))\n",
    "    else:\n",
    "        pass"
   ]
  },
  {
   "cell_type": "markdown",
   "id": "a8eb0be5-b53b-4443-a27f-36714984087d",
   "metadata": {},
   "source": [
    "We will ignore the mario bros 2 which is referring to a different game."
   ]
  },
  {
   "cell_type": "markdown",
   "id": "28c338e2-a5de-4416-b12c-31d52d64a4b9",
   "metadata": {},
   "source": [
    "That leaves:\n",
    "\n",
    "| ROM | MD5 hash |\n",
    "|---|---|\n",
    "|super-mario-bros-pixel.nes      | 9e2e8cf204c40ad2030cd4cf50e28d45 |\n",
    "|super-mario-bros-rectangle.nes  | d88207b7a3fb143f3f94480e89c83dd7 |\n",
    "|super-mario-bros-downsample.nes | 9e1a6e778a231091060ba5e9029b9a2f |\n",
    "|super-mario-bros.nes            | 673913a23cd612daf5ad32d4085e0760 |"
   ]
  },
  {
   "cell_type": "markdown",
   "id": "df90d7f0-8f8d-42db-aa72-238f0f3fc625",
   "metadata": {},
   "source": [
    "Looking at a table of known ROMs maintained by [TASVideos for Super Mario Bros.](https://tasvideos.org/Games/1/Versions/List), we can see that only the original 'v0' corresponds to a known entry. \n",
    "\n",
    "Here `REVA` should be interpreted as revision A, a revision made by Nintendo, so the original unmodified ROM for the European market.\n",
    "\n",
    "```\n",
    "Super Mario Bros. (E) (REVA) [!].nes\n",
    "SourceDB: GoodNES 3.23\n",
    "```\n",
    "\n",
    "So, if we wish to use TAS input, we will want to make use of this specific ROM, which presumably is based on a patch to the original.\n",
    "\n",
    "However, it is that very version that is used in this TAS per the submission page. \n",
    "\n",
    "This ultimately suggests that the problem lies with differences in the *emulator* differing nontrivially from that used in the TAS. This does not seem surprising. The gymnasium environment emulator may have been generated from scratch by the original author Kautenja.\n",
    "\n",
    "For an interesting look at the effort necessary to try and achieve complete fidelity, see this [ArsTechnica post](https://arstechnica.com/gaming/2021/06/how-snes-emulators-got-a-few-pixels-from-complete-perfection/)."
   ]
  },
  {
   "cell_type": "markdown",
   "id": "7dc3639e-6b0d-42fc-84a7-94d35dd54b53",
   "metadata": {},
   "source": [
    "# Conclusion"
   ]
  },
  {
   "cell_type": "markdown",
   "id": "ce0304e7-2fe8-41d0-be8b-24b07e17a185",
   "metadata": {},
   "source": [
    "The direct use of TAS inputs is problematic when using this emulator. It is presumably out of scope to try to fully implement. To do so, one would presumably need to bring the python emulator in greater alignment with the community standard emulators.\n",
    "\n",
    "Or generate a TAS sequence manually replicating the process.\n",
    "\n",
    "Ultimately, the best use of TAS inputs is likely to be serving as a prior, a weighting of the different inputs used."
   ]
  },
  {
   "cell_type": "markdown",
   "id": "8b5ac45d-ef48-4eb7-ae34-4b1e5f90c193",
   "metadata": {},
   "source": [
    "# Note on generative AI usage"
   ]
  },
  {
   "cell_type": "markdown",
   "id": "4cc0b365-9988-4fe3-a4b7-acbd70c37ba6",
   "metadata": {},
   "source": [
    "One prompt was submitted to Microsoft CoPilot, referencing language in the [.fm2 file description](https://fceux.com/web/help/fm2.html) to request code that would generate hashes for files:\n",
    "\n",
    ">\n",
    "> - romChecksum (required) - the base64 of the hexified MD5 hash of the ROM which was used to record the movie\n",
    ">\n",
    "> Python code to calculate an MD5 hash of a file, 'hexify' it, and then take base64 as the above describes.\n",
    "\n",
    "Which resulted in the following output:\n",
    "\n",
    "Here's a Python snippet that calculates the **MD5 hash** of a file, converts it to a **hex string**, and then encodes that hex string in **Base64**, as described for generating a `romChecksum`:\n",
    "\n",
    "```python\n",
    "import hashlib\n",
    "import base64\n",
    "\n",
    "def calculate_rom_checksum(file_path):\n",
    "    # Read the file in binary mode and compute MD5 hash\n",
    "    with open(file_path, 'rb') as f:\n",
    "        file_data = f.read()\n",
    "        md5_hash = hashlib.md5(file_data).hexdigest()  # Hexified MD5\n",
    "\n",
    "    # Convert hex string to bytes, then encode in base64\n",
    "    hex_bytes = bytes.fromhex(md5_hash)\n",
    "    base64_encoded = base64.b64encode(hex_bytes).decode('utf-8')\n",
    "\n",
    "    return base64_encoded\n",
    "\n",
    "# Example usage\n",
    "file_path = 'your_rom_file.rom'\n",
    "checksum = calculate_rom_checksum(file_path)\n",
    "print(\"romChecksum:\", checksum)\n",
    "```\n",
    "\n",
    "Explanation:\n",
    "1. **`hashlib.md5(file_data).hexdigest()`**: Computes the MD5 hash and returns it as a hex string.\n",
    "2. **`bytes.fromhex(...)`**: Converts the hex string to raw bytes.\n",
    "3. **`base64.b64encode(...)`**: Encodes those bytes in Base64.\n",
    "\n",
    "Let me know if you'd like this wrapped into a command-line tool or script that accepts arguments, or if you want to process multiple files at once.\n",
    "\n",
    "---"
   ]
  },
  {
   "cell_type": "markdown",
   "id": "265a13b1-fca0-421e-a8ee-e3217c144df2",
   "metadata": {},
   "source": [
    "That was ultimately refashioned into the following:\n",
    "\n",
    "```python\n",
    "import hashlib\n",
    "import base64\n",
    "\n",
    "def calculate_rom_checksum(file_path):\n",
    "    # Read the file in binary mode and compute MD5 hash\n",
    "    with open(file_path, 'rb') as f:\n",
    "        file_data = f.read()\n",
    "        md5_hash = hashlib.md5(file_data).hexdigest()  # Hexified MD5\n",
    "\n",
    "    # Convert hex string to bytes, then encode in base64\n",
    "    hex_bytes = bytes.fromhex(md5_hash)\n",
    "    base64_encoded = base64.b64encode(hex_bytes).decode('utf-8')\n",
    "\n",
    "    result = {}\n",
    "    result['md5'] = md5_hash\n",
    "    result['hex_bytes'] = hex_bytes\n",
    "    result['md5_base64'] = base64_encoded\n",
    "\n",
    "    return (result)\n",
    "\n",
    "def printChecksum(source_description, file):\n",
    "    checksum = calculate_rom_checksum(file)\n",
    "    print(source_description)\n",
    "    for key in checksum:\n",
    "        print(key, checksum[key], \"length\", len(checksum[key]))\n",
    "    print(\"---\")\n",
    "\n",
    "printChecksum('Gymnasium, super-mario-bros.nes, ie., v0', 'super-mario-bros.nes')  \n",
    "```"
   ]
  }
 ],
 "metadata": {
  "kernelspec": {
   "display_name": "Python 3 (ipykernel)",
   "language": "python",
   "name": "python3"
  },
  "language_info": {
   "codemirror_mode": {
    "name": "ipython",
    "version": 3
   },
   "file_extension": ".py",
   "mimetype": "text/x-python",
   "name": "python",
   "nbconvert_exporter": "python",
   "pygments_lexer": "ipython3",
   "version": "3.12.11"
  }
 },
 "nbformat": 4,
 "nbformat_minor": 5
}
