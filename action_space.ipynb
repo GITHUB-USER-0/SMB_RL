{
 "cells": [
  {
   "cell_type": "markdown",
   "id": "e1960043-2c3d-4c95-9737-ca8d82803cf0",
   "metadata": {},
   "source": [
    "# Running"
   ]
  },
  {
   "cell_type": "markdown",
   "id": "27abdb41-633e-4135-b1ae-f6c82eacb99c",
   "metadata": {},
   "source": [
    "## Loading"
   ]
  },
  {
   "cell_type": "code",
   "execution_count": 1,
   "id": "3e5ebbd4-7313-4a4f-993b-d33e5c95d439",
   "metadata": {},
   "outputs": [],
   "source": [
    "# not !run\n",
    "# load libraries, and the agent class\n",
    "%run \"SMB_iterate.py\""
   ]
  },
  {
   "cell_type": "markdown",
   "id": "4b934236-be40-4f85-922c-48d12f28a171",
   "metadata": {},
   "source": [
    "# Action space"
   ]
  },
  {
   "cell_type": "markdown",
   "id": "3d422fc9-bd1f-42ca-85ce-b513bd3c2f0b",
   "metadata": {},
   "source": [
    "Below are the available buttons, as per `nes_py/wrappers/joypad_space.py`. Note that this follows the same ordering convention as we will observe later on for the TAS input file format.\n",
    "\n",
    "```python\n",
    "class JoypadSpace(Wrapper):\n",
    "    \"\"\"An environment wrapper to convert binary to discrete action space.\"\"\"\n",
    "\n",
    "    # a mapping of buttons to binary values\n",
    "    _button_map = {\n",
    "        'right':  0b10000000,\n",
    "        'left':   0b01000000,\n",
    "        'down':   0b00100000,\n",
    "        'up':     0b00010000,\n",
    "        'start':  0b00001000,\n",
    "        'select': 0b00000100,\n",
    "        'B':      0b00000010,\n",
    "        'A':      0b00000001,\n",
    "        'NOOP':   0b00000000,\n",
    "    }\n",
    "```"
   ]
  },
  {
   "cell_type": "markdown",
   "id": "4d5eb592-35b6-424d-a48f-e9dfbc20df0d",
   "metadata": {},
   "source": [
    "The gymnasium package has provided a few different preconfigured movement options that are combinations of these buttons. These options are provided as a list of lists, with each element in the sub list being a suitable action, eg., `[['right'], ['right', 'B']]`. \n",
    "\n",
    "Of the pre-provided options, `COMPLEX_MOVEMENT` has the largest. But, it should be noted that this still does not include the full range of actions, eg., `['up', 'A']` is not included as an action. \n",
    "\n",
    "Of course, we can imagine that not all actions *should* not necessarily be explored. But, the question is to what extent we want to manage that externally versus allowing the reinforcement learning agent establish good versus bad actions implicitly. "
   ]
  },
  {
   "cell_type": "markdown",
   "id": "4c237137-fe51-4eae-a750-09e658530f51",
   "metadata": {},
   "source": [
    "Below are the preconfigured lists of actions made available in the environment."
   ]
  },
  {
   "cell_type": "code",
   "execution_count": 2,
   "id": "92e0668f-e7aa-486a-8cfe-361eb37bf809",
   "metadata": {},
   "outputs": [
    {
     "name": "stdout",
     "output_type": "stream",
     "text": [
      "12\n"
     ]
    },
    {
     "data": {
      "text/plain": [
       "[['NOOP'],\n",
       " ['right'],\n",
       " ['right', 'A'],\n",
       " ['right', 'B'],\n",
       " ['right', 'A', 'B'],\n",
       " ['A'],\n",
       " ['left'],\n",
       " ['left', 'A'],\n",
       " ['left', 'B'],\n",
       " ['left', 'A', 'B'],\n",
       " ['down'],\n",
       " ['up']]"
      ]
     },
     "execution_count": 2,
     "metadata": {},
     "output_type": "execute_result"
    }
   ],
   "source": [
    "_ = gym_super_mario_bros.actions.COMPLEX_MOVEMENT\n",
    "print(len(_))\n",
    "_"
   ]
  },
  {
   "cell_type": "code",
   "execution_count": 3,
   "id": "b7b4579e-4953-473e-9c3b-1dacd3e37c69",
   "metadata": {},
   "outputs": [
    {
     "name": "stdout",
     "output_type": "stream",
     "text": [
      "5\n"
     ]
    },
    {
     "data": {
      "text/plain": [
       "[['NOOP'], ['right'], ['right', 'A'], ['right', 'B'], ['right', 'A', 'B']]"
      ]
     },
     "execution_count": 3,
     "metadata": {},
     "output_type": "execute_result"
    }
   ],
   "source": [
    "_ = gym_super_mario_bros.actions.RIGHT_ONLY\n",
    "print(len(_))\n",
    "_"
   ]
  },
  {
   "cell_type": "code",
   "execution_count": 4,
   "id": "fbbc3057-ff16-41e2-8859-0caf48b2d645",
   "metadata": {},
   "outputs": [
    {
     "name": "stdout",
     "output_type": "stream",
     "text": [
      "7\n"
     ]
    },
    {
     "data": {
      "text/plain": [
       "[['NOOP'],\n",
       " ['right'],\n",
       " ['right', 'A'],\n",
       " ['right', 'B'],\n",
       " ['right', 'A', 'B'],\n",
       " ['A'],\n",
       " ['left']]"
      ]
     },
     "execution_count": 4,
     "metadata": {},
     "output_type": "execute_result"
    }
   ],
   "source": [
    "_ = gym_super_mario_bros.actions.SIMPLE_MOVEMENT\n",
    "print(len(_))\n",
    "_"
   ]
  },
  {
   "cell_type": "markdown",
   "id": "07738cfa-29af-42f1-a535-03fbbf408e9d",
   "metadata": {},
   "source": [
    "But, we can just as easily create our own curated lists, including a complete `actionSpace`."
   ]
  },
  {
   "cell_type": "code",
   "execution_count": 5,
   "id": "6eb114b9-ffb4-412b-8dc4-8bbd75eac60f",
   "metadata": {},
   "outputs": [
    {
     "name": "stdout",
     "output_type": "stream",
     "text": [
      "len(actionSpace)=256\n"
     ]
    }
   ],
   "source": [
    "# with thanks to: https://www.geeksforgeeks.org/python/python-itertools-combinations-function/\n",
    "from itertools import combinations\n",
    "\n",
    "# 8 binary options => 2^8 combinations\n",
    "ALL_BUTTONS = ['right', 'left', 'down', 'up', 'start', 'select', 'B', 'A']\n",
    "\n",
    "actionSpace = [\"NOOP\"] \n",
    "for i in range(1, len(ALL_BUTTONS) + 1): # do not include the empty permutation\n",
    "                                         # already included above\n",
    "    for j in combinations(ALL_BUTTONS, i):\n",
    "        actionSpace.append(list(j))\n",
    "\n",
    "print(f\"{len(actionSpace)=}\")"
   ]
  },
  {
   "cell_type": "code",
   "execution_count": 6,
   "id": "50df17e4-6807-4795-8574-012abe79df56",
   "metadata": {},
   "outputs": [
    {
     "data": {
      "text/plain": [
       "['NOOP',\n",
       " ['right'],\n",
       " ['left'],\n",
       " ['down'],\n",
       " ['up'],\n",
       " ['start'],\n",
       " ['select'],\n",
       " ['B'],\n",
       " ['A']]"
      ]
     },
     "execution_count": 6,
     "metadata": {},
     "output_type": "execute_result"
    }
   ],
   "source": [
    "actionSpace[0:9]"
   ]
  },
  {
   "cell_type": "code",
   "execution_count": 7,
   "id": "ba78cfc5-2f34-4a20-8766-10edf7d2cf97",
   "metadata": {},
   "outputs": [
    {
     "data": {
      "text/plain": [
       "[['right', 'left', 'down', 'up', 'start', 'select', 'B'],\n",
       " ['right', 'left', 'down', 'up', 'start', 'select', 'A'],\n",
       " ['right', 'left', 'down', 'up', 'start', 'B', 'A'],\n",
       " ['right', 'left', 'down', 'up', 'select', 'B', 'A'],\n",
       " ['right', 'left', 'down', 'start', 'select', 'B', 'A'],\n",
       " ['right', 'left', 'up', 'start', 'select', 'B', 'A'],\n",
       " ['right', 'down', 'up', 'start', 'select', 'B', 'A'],\n",
       " ['left', 'down', 'up', 'start', 'select', 'B', 'A'],\n",
       " ['right', 'left', 'down', 'up', 'start', 'select', 'B', 'A']]"
      ]
     },
     "execution_count": 7,
     "metadata": {},
     "output_type": "execute_result"
    }
   ],
   "source": [
    "actionSpace[-9:]"
   ]
  },
  {
   "cell_type": "markdown",
   "id": "5cacd9f1-d7de-41e9-8fde-a0e7eca1ffb0",
   "metadata": {},
   "source": [
    "## Choice of action space"
   ]
  },
  {
   "cell_type": "markdown",
   "id": "cc6aa103-9749-4480-b97d-0904ea61e7c3",
   "metadata": {},
   "source": [
    "Using the complete action space is expected to result in very poor performance as it will significantly increase the space to explore.\n",
    "\n",
    "Nonetheless, we will calculate it for reference, perhaps useful."
   ]
  },
  {
   "cell_type": "code",
   "execution_count": 8,
   "id": "e9ca883c-2b86-439b-974b-3446b2137b16",
   "metadata": {},
   "outputs": [],
   "source": [
    "ALL_BUTTONS = ['right', 'left', 'down', 'up', 'start', 'select', 'B', 'A']\n",
    "ALL_SINGLE_ACTIONS = ALL_BUTTONS.copy()\n",
    "ALL_SINGLE_ACTIONS.append(\"NOOP\")\n",
    "COMPLETE_ACTIONSPACE = [ [\"NOOP\"] ] # note use of a list of lists \n",
    "for i in range(1, len(ALL_BUTTONS) + 1): # do not include the empty permutation\n",
    "                                         # already included above\n",
    "    for j in combinations(ALL_BUTTONS, i):\n",
    "        COMPLETE_ACTIONSPACE.append(list(list(j)))"
   ]
  },
  {
   "cell_type": "code",
   "execution_count": 9,
   "id": "2cadc84a-e1d5-4e67-9be2-363addf0ff52",
   "metadata": {},
   "outputs": [
    {
     "name": "stderr",
     "output_type": "stream",
     "text": [
      "/home/dss2q/.local/lib/python3.12/site-packages/gymnasium/envs/registration.py:512: DeprecationWarning: \u001b[33mWARN: The environment SuperMarioBros-v0 is out of date. You should consider upgrading to version `v3`.\u001b[0m\n",
      "  logger.deprecation(\n"
     ]
    },
    {
     "name": "stdout",
     "output_type": "stream",
     "text": [
      "actionSpace is long, (length: 256), showing first 5 and last 5 entries:\n",
      "[['NOOP'], ['right'], ['left'], ['down'], ['up']]\n",
      " ... \n",
      " [['right', 'left', 'down', 'start', 'select', 'B', 'A'], ['right', 'left', 'up', 'start', 'select', 'B', 'A'], ['right', 'down', 'up', 'start', 'select', 'B', 'A'], ['left', 'down', 'up', 'start', 'select', 'B', 'A'], ['right', 'left', 'down', 'up', 'start', 'select', 'B', 'A']]\n",
      "self.seed=5004\n",
      "self.step=-1\n",
      "self.cumulativeReward=0\n",
      "Latest state:\n",
      "None\n"
     ]
    }
   ],
   "source": [
    "a = Agent(COMPLETE_ACTIONSPACE)\n",
    "print(a)"
   ]
  },
  {
   "cell_type": "code",
   "execution_count": 10,
   "id": "7b4b91ee-08ee-4f6e-ad5f-0eba3db6b8be",
   "metadata": {},
   "outputs": [
    {
     "name": "stdout",
     "output_type": "stream",
     "text": [
      "Object `gym_super_mario_bros.env.reset` not found.\n"
     ]
    }
   ],
   "source": [
    "gym_super_mario_bros.env.reset?"
   ]
  },
  {
   "cell_type": "code",
   "execution_count": 11,
   "id": "13599dbe-aef1-454d-9693-c39d4f5dd874",
   "metadata": {},
   "outputs": [
    {
     "name": "stdout",
     "output_type": "stream",
     "text": [
      "self.step=0000000, self.cumulativeReward=0.0, info['coins']=0, info['time']=400\n",
      "self.step=0001000, self.cumulativeReward=528.0, info['coins']=0, info['time']=374\n",
      "self.step=0002000, self.cumulativeReward=503.0, info['coins']=0, info['time']=349\n",
      "self.step=0003000, self.cumulativeReward=472.0, info['coins']=0, info['time']=325\n",
      "self.step=0004000, self.cumulativeReward=454.0, info['coins']=0, info['time']=300\n",
      "self.step=0005000, self.cumulativeReward=429.0, info['coins']=0, info['time']=275\n"
     ]
    }
   ],
   "source": [
    "a.iterate(policy = \"random\", maxSteps = 5_001, saveImage = False)"
   ]
  },
  {
   "cell_type": "code",
   "execution_count": 12,
   "id": "bf3891fd-74b4-4542-b39c-1c0c2f9ee6fd",
   "metadata": {},
   "outputs": [
    {
     "data": {
      "text/html": [
       "<div>\n",
       "<style scoped>\n",
       "    .dataframe tbody tr th:only-of-type {\n",
       "        vertical-align: middle;\n",
       "    }\n",
       "\n",
       "    .dataframe tbody tr th {\n",
       "        vertical-align: top;\n",
       "    }\n",
       "\n",
       "    .dataframe thead th {\n",
       "        text-align: right;\n",
       "    }\n",
       "</style>\n",
       "<table border=\"1\" class=\"dataframe\">\n",
       "  <thead>\n",
       "    <tr style=\"text-align: right;\">\n",
       "      <th></th>\n",
       "      <th>a0</th>\n",
       "      <th>a1</th>\n",
       "      <th>a2</th>\n",
       "      <th>a3</th>\n",
       "      <th>a4</th>\n",
       "      <th>a5</th>\n",
       "      <th>a6</th>\n",
       "      <th>a7</th>\n",
       "      <th>action</th>\n",
       "      <th>buttonCount</th>\n",
       "    </tr>\n",
       "  </thead>\n",
       "  <tbody>\n",
       "    <tr>\n",
       "      <th>0</th>\n",
       "      <td>right</td>\n",
       "      <td>left</td>\n",
       "      <td>start</td>\n",
       "      <td>B</td>\n",
       "      <td></td>\n",
       "      <td></td>\n",
       "      <td></td>\n",
       "      <td></td>\n",
       "      <td>right,left,start,B</td>\n",
       "      <td>4</td>\n",
       "    </tr>\n",
       "    <tr>\n",
       "      <th>1</th>\n",
       "      <td>down</td>\n",
       "      <td>start</td>\n",
       "      <td>A</td>\n",
       "      <td></td>\n",
       "      <td></td>\n",
       "      <td></td>\n",
       "      <td></td>\n",
       "      <td></td>\n",
       "      <td>down,start,A</td>\n",
       "      <td>3</td>\n",
       "    </tr>\n",
       "    <tr>\n",
       "      <th>2</th>\n",
       "      <td>right</td>\n",
       "      <td>left</td>\n",
       "      <td>start</td>\n",
       "      <td></td>\n",
       "      <td></td>\n",
       "      <td></td>\n",
       "      <td></td>\n",
       "      <td></td>\n",
       "      <td>right,left,start</td>\n",
       "      <td>3</td>\n",
       "    </tr>\n",
       "    <tr>\n",
       "      <th>3</th>\n",
       "      <td>up</td>\n",
       "      <td>start</td>\n",
       "      <td>select</td>\n",
       "      <td>B</td>\n",
       "      <td></td>\n",
       "      <td></td>\n",
       "      <td></td>\n",
       "      <td></td>\n",
       "      <td>up,start,select,B</td>\n",
       "      <td>4</td>\n",
       "    </tr>\n",
       "    <tr>\n",
       "      <th>4</th>\n",
       "      <td>down</td>\n",
       "      <td>B</td>\n",
       "      <td>A</td>\n",
       "      <td></td>\n",
       "      <td></td>\n",
       "      <td></td>\n",
       "      <td></td>\n",
       "      <td></td>\n",
       "      <td>down,B,A</td>\n",
       "      <td>3</td>\n",
       "    </tr>\n",
       "    <tr>\n",
       "      <th>...</th>\n",
       "      <td>...</td>\n",
       "      <td>...</td>\n",
       "      <td>...</td>\n",
       "      <td>...</td>\n",
       "      <td>...</td>\n",
       "      <td>...</td>\n",
       "      <td>...</td>\n",
       "      <td>...</td>\n",
       "      <td>...</td>\n",
       "      <td>...</td>\n",
       "    </tr>\n",
       "    <tr>\n",
       "      <th>4996</th>\n",
       "      <td>right</td>\n",
       "      <td>down</td>\n",
       "      <td>up</td>\n",
       "      <td>select</td>\n",
       "      <td>B</td>\n",
       "      <td></td>\n",
       "      <td></td>\n",
       "      <td></td>\n",
       "      <td>right,down,up,select,B</td>\n",
       "      <td>5</td>\n",
       "    </tr>\n",
       "    <tr>\n",
       "      <th>4997</th>\n",
       "      <td>right</td>\n",
       "      <td>up</td>\n",
       "      <td>start</td>\n",
       "      <td>B</td>\n",
       "      <td></td>\n",
       "      <td></td>\n",
       "      <td></td>\n",
       "      <td></td>\n",
       "      <td>right,up,start,B</td>\n",
       "      <td>4</td>\n",
       "    </tr>\n",
       "    <tr>\n",
       "      <th>4998</th>\n",
       "      <td>left</td>\n",
       "      <td>down</td>\n",
       "      <td>start</td>\n",
       "      <td>A</td>\n",
       "      <td></td>\n",
       "      <td></td>\n",
       "      <td></td>\n",
       "      <td></td>\n",
       "      <td>left,down,start,A</td>\n",
       "      <td>4</td>\n",
       "    </tr>\n",
       "    <tr>\n",
       "      <th>4999</th>\n",
       "      <td>right</td>\n",
       "      <td>left</td>\n",
       "      <td>down</td>\n",
       "      <td>up</td>\n",
       "      <td>start</td>\n",
       "      <td>A</td>\n",
       "      <td></td>\n",
       "      <td></td>\n",
       "      <td>right,left,down,up,start,A</td>\n",
       "      <td>6</td>\n",
       "    </tr>\n",
       "    <tr>\n",
       "      <th>5000</th>\n",
       "      <td>left</td>\n",
       "      <td>down</td>\n",
       "      <td>up</td>\n",
       "      <td>select</td>\n",
       "      <td></td>\n",
       "      <td></td>\n",
       "      <td></td>\n",
       "      <td></td>\n",
       "      <td>left,down,up,select</td>\n",
       "      <td>4</td>\n",
       "    </tr>\n",
       "  </tbody>\n",
       "</table>\n",
       "<p>5001 rows × 10 columns</p>\n",
       "</div>"
      ],
      "text/plain": [
       "         a0     a1      a2      a3     a4 a5 a6 a7  \\\n",
       "0     right   left   start       B                   \n",
       "1      down  start       A                           \n",
       "2     right   left   start                           \n",
       "3        up  start  select       B                   \n",
       "4      down      B       A                           \n",
       "...     ...    ...     ...     ...    ... .. .. ..   \n",
       "4996  right   down      up  select      B            \n",
       "4997  right     up   start       B                   \n",
       "4998   left   down   start       A                   \n",
       "4999  right   left    down      up  start  A         \n",
       "5000   left   down      up  select                   \n",
       "\n",
       "                          action  buttonCount  \n",
       "0             right,left,start,B            4  \n",
       "1                   down,start,A            3  \n",
       "2               right,left,start            3  \n",
       "3              up,start,select,B            4  \n",
       "4                       down,B,A            3  \n",
       "...                          ...          ...  \n",
       "4996      right,down,up,select,B            5  \n",
       "4997            right,up,start,B            4  \n",
       "4998           left,down,start,A            4  \n",
       "4999  right,left,down,up,start,A            6  \n",
       "5000         left,down,up,select            4  \n",
       "\n",
       "[5001 rows x 10 columns]"
      ]
     },
     "execution_count": 12,
     "metadata": {},
     "output_type": "execute_result"
    }
   ],
   "source": [
    "df = a.actionDF()\n",
    "\n",
    "df"
   ]
  },
  {
   "cell_type": "code",
   "execution_count": 13,
   "id": "8cc8600c-72c2-4987-84a5-7473fbd68b46",
   "metadata": {},
   "outputs": [
    {
     "data": {
      "image/png": "[encoded data removed]",
      "text/plain": [
       "<Figure size 640x480 with 1 Axes>"
      ]
     },
     "metadata": {},
     "output_type": "display_data"
    }
   ],
   "source": [
    "df['buttonCount'].hist(bins = 30);"
   ]
  },
  {
   "cell_type": "markdown",
   "id": "03e1371e-66d6-4786-85ed-debbb981df72",
   "metadata": {},
   "source": [
    "A plot of the number of times that an action was taken. Just a validation that it appears to be somewhat uniform, in the exploration of actions."
   ]
  },
  {
   "cell_type": "code",
   "execution_count": 14,
   "id": "97bd08f0-61df-4507-8f27-2097029b9fd3",
   "metadata": {},
   "outputs": [
    {
     "data": {
      "image/png": "[encoded data removed]",
      "text/plain": [
       "<Figure size 640x480 with 1 Axes>"
      ]
     },
     "metadata": {},
     "output_type": "display_data"
    }
   ],
   "source": [
    "plot = df['action'].hist(bins = 256)\n",
    "\n",
    "# heavily overplotted x-axis removed as per:\n",
    "# https://stackoverflow.com/questions/58476654/how-to-remove-or-hide-x-axis-labels-from-a-plot\n",
    "plot.set(xlabel=None);\n",
    "plot.set(xticklabels=[]);\n",
    "plot.tick_params(bottom = False);"
   ]
  },
  {
   "cell_type": "markdown",
   "id": "9b89ae34-b30a-442b-a004-ea2aacb315bb",
   "metadata": {},
   "source": [
    "# TODO\n",
    "\n",
    "might be nice to have a plot of actions. \n",
    "\n",
    "Or a plot of boxes for each action sequence? run-length encoding?"
   ]
  },
  {
   "cell_type": "markdown",
   "id": "0e5a7318-5afd-4bbe-8c71-a9d7c60a70d8",
   "metadata": {},
   "source": [
    "# Scratch"
   ]
  },
  {
   "cell_type": "markdown",
   "id": "17b040c0-9f47-426d-9021-b2c952d21205",
   "metadata": {},
   "source": [
    "# Note on AI usage"
   ]
  },
  {
   "cell_type": "markdown",
   "id": "b48a2882-d148-4be2-93ca-b0347315e559",
   "metadata": {},
   "source": [
    "Generative AI was not used in the creation of this document and explanation as of 2025-10-20."
   ]
  }
 ],
 "metadata": {
  "kernelspec": {
   "display_name": "Tensorflow 2.17.0",
   "language": "python",
   "name": "tensorflow-2.17.0"
  },
  "language_info": {
   "codemirror_mode": {
    "name": "ipython",
    "version": 3
   },
   "file_extension": ".py",
   "mimetype": "text/x-python",
   "name": "python",
   "nbconvert_exporter": "python",
   "pygments_lexer": "ipython3",
   "version": "3.12.3"
  }
 },
 "nbformat": 4,
 "nbformat_minor": 5
}
